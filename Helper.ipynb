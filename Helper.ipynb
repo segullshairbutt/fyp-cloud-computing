{
 "cells": [
  {
   "cell_type": "code",
   "execution_count": 2,
   "metadata": {},
   "outputs": [],
   "source": [
    "import json\n",
    "\n",
    "with open(\"sample_config.json\", \"r\") as sample_file:\n",
    "    template = json.load(sample_file)\n",
    "    \n",
    "class RefPath:\n",
    "    def __init__(self, ref_path):\n",
    "        paths = ref_path.split(\"#/info/x-pods/\")\n",
    "        parts = paths[1].split(\"/\")\n",
    "        self.pod_name = parts[0]\n",
    "        self.container_name = parts[2]\n",
    "\n",
    "    @property\n",
    "    def full_path(self):\n",
    "        return \"#/info/x-pods/\" + self.pod_name + \"/containers/\" + self.container_name + \"/port\"\n",
    "\n",
    "\n",
    "class Method:\n",
    "    def __init__(self, path_name, method_name, ref_path, full_method):\n",
    "        self.path_name = path_name\n",
    "        self.method_name = method_name\n",
    "        self.ref_path = ref_path\n",
    "        self.full_method = full_method\n",
    "\n",
    "    def __str__(self):\n",
    "        return self.path_name + \": \" + self.method_name + \" (\" + self.ref_path.full_path + \")\"\n",
    "    \n",
    "class Pod:\n",
    "    def __init__(self, pod_name, full_pod):\n",
    "        self.pod_name = pod_name\n",
    "        self.full_pod = full_pod"
   ]
  },
  {
   "cell_type": "code",
   "execution_count": 3,
   "metadata": {},
   "outputs": [],
   "source": [
    "methods = []\n",
    "for path_name, path in template[\"paths\"].items():\n",
    "    for method_name, method in path.items():        \n",
    "        ref_path = RefPath(method[\"x-location\"][\"$ref\"])        \n",
    "        methods.append(Method(path_name, method_name, ref_path, method))\n",
    "\n",
    "pods = []\n",
    "for pod_name, pod in template[\"info\"][\"x-pods\"].items():\n",
    "    full_pod = dict()\n",
    "    full_pod[pod_name] = pod\n",
    "    pods.append(Pod(pod_name, full_pod))"
   ]
  },
  {
   "cell_type": "code",
   "execution_count": 8,
   "metadata": {},
   "outputs": [],
   "source": [
    "import copy\n",
    "templates = []\n",
    "for pod in pods:\n",
    "    sample_template = copy.deepcopy(template)\n",
    "    pod_methods = {}\n",
    "    for method in methods:\n",
    "        if method.ref_path.pod_name == pod.pod_name:\n",
    "            pod_methods.setdefault(method.path_name, {})\n",
    "            pod_methods[method.path_name][method.method_name] = method.full_method\n",
    "    if len(pod_methods):\n",
    "        sample_template[\"info\"][\"x-pods\"] = pod.full_pod\n",
    "        sample_template[\"paths\"] = pod_methods\n",
    "\n",
    "        templates.append(sample_template)"
   ]
  },
  {
   "cell_type": "code",
   "execution_count": 19,
   "metadata": {},
   "outputs": [],
   "source": [
    "def gen_dict_extract(key, var):\n",
    "    if hasattr(var,'items'):\n",
    "        for k, v in var.items():\n",
    "            if k == key:\n",
    "                yield v\n",
    "            if isinstance(v, dict):                \n",
    "                for result in gen_dict_extract(key, v):\n",
    "                    yield result\n",
    "            elif isinstance(v, (list)):\n",
    "                for d in v:\n",
    "                    for result in gen_dict_extract(key, d):\n",
    "                        yield result\n",
    "                        \n",
    "def get_schemas_only(references):\n",
    "    schemas = []\n",
    "    for reference in references:\n",
    "        schema = reference.split(\"#/components/schemas/\")        \n",
    "        try:\n",
    "            schemas.append(schema[1])\n",
    "        except IndexError:\n",
    "            pass\n",
    "\n",
    "    return schemas\n",
    "\n",
    "\n",
    "def get_schema(references):\n",
    "    schemas = []\n",
    "    for reference in references:\n",
    "        schema = reference.split(\"#/components/schemas/\")        \n",
    "        try:\n",
    "            return schema[1]\n",
    "        except IndexError:\n",
    "            pass    "
   ]
  },
  {
   "cell_type": "code",
   "execution_count": 20,
   "metadata": {},
   "outputs": [
    {
     "name": "stdout",
     "output_type": "stream",
     "text": [
      "Pet\n",
      "Pet\n",
      "Pet\n",
      "Pet\n",
      "Pet\n",
      "None\n",
      "None\n",
      "ApiResponse\n",
      "None\n",
      "Order\n",
      "Order\n",
      "None\n",
      "User\n",
      "User\n",
      "None\n",
      "None\n",
      "User\n",
      "User\n",
      "None\n"
     ]
    }
   ],
   "source": [
    "schemas_methods = {}\n",
    "for method in methods:    \n",
    "    all_schemas = list(set(gen_dict_extract('$ref', method.full_method)))\n",
    "    print(get_schema(all_schemas))\n"
   ]
  },
  {
   "cell_type": "code",
   "execution_count": 17,
   "metadata": {},
   "outputs": [
    {
     "data": {
      "text/plain": [
       "['Pets', 'Users']"
      ]
     },
     "execution_count": 17,
     "metadata": {},
     "output_type": "execute_result"
    }
   ],
   "source": [
    "get_schema([\"#/components/schemas/Pets\", \"#/components/schemas/Users\"])"
   ]
  }
 ],
 "metadata": {
  "kernelspec": {
   "display_name": "Python 3",
   "language": "python",
   "name": "python3"
  },
  "language_info": {
   "codemirror_mode": {
    "name": "ipython",
    "version": 3
   },
   "file_extension": ".py",
   "mimetype": "text/x-python",
   "name": "python",
   "nbconvert_exporter": "python",
   "pygments_lexer": "ipython3",
   "version": "3.8.3"
  }
 },
 "nbformat": 4,
 "nbformat_minor": 4
}
