{
 "cells": [
  {
   "cell_type": "code",
   "execution_count": 40,
   "metadata": {},
   "outputs": [],
   "source": [
    "import json\n",
    "\n",
    "with open(\"sample_config.json\", \"r\") as sample_file:\n",
    "    template = json.load(sample_file)\n",
    "    \n",
    "class RefPath:\n",
    "    def __init__(self, ref_path):\n",
    "        paths = ref_path.split(\"#/info/x-pods/\")\n",
    "        parts = paths[1].split(\"/\")\n",
    "        self.pod_name = parts[0]\n",
    "        self.container_name = parts[2]\n",
    "\n",
    "    @property\n",
    "    def full_path(self):\n",
    "        return \"#/info/x-pods/\" + self.pod_name + \"/containers/\" + self.container_name + \"/port\"\n",
    "\n",
    "\n",
    "class Method:\n",
    "    def __init__(self, path_name, method_name, ref_path, schema_name, full_method):\n",
    "        self.path_name = path_name\n",
    "        self.method_name = method_name\n",
    "        self.ref_path = ref_path        \n",
    "        self.schema_name = schema_name\n",
    "        self.full_method = full_method        \n",
    "\n",
    "    def __str__(self):\n",
    "        return self.path_name + \": \" + self.method_name + \" (\" + self.ref_path.full_path + \")\" +\" <-> \" + self.schema_name\n",
    "    \n",
    "class Pod:\n",
    "    def __init__(self, pod_name, full_pod):\n",
    "        self.pod_name = pod_name\n",
    "        self.full_pod = full_pod"
   ]
  },
  {
   "cell_type": "code",
   "execution_count": 15,
   "metadata": {},
   "outputs": [],
   "source": [
    "methods = []\n",
    "for path_name, path in template[\"paths\"].items():\n",
    "    for method_name, method in path.items():        \n",
    "        ref_path = RefPath(method[\"x-location\"][\"$ref\"])\n",
    "        all_references = list(set(gen_dict_extract('$ref', method)))\n",
    "        schema_name = get_schema_only(all_references)    \n",
    "        \n",
    "        methods.append(Method(path_name, method_name, ref_path, schema_name, method))\n",
    "\n",
    "pods = []\n",
    "for pod_name, pod in template[\"info\"][\"x-pods\"].items():\n",
    "    full_pod = dict()\n",
    "    full_pod[pod_name] = pod\n",
    "    pods.append(Pod(pod_name, full_pod))"
   ]
  },
  {
   "cell_type": "code",
   "execution_count": null,
   "metadata": {},
   "outputs": [],
   "source": [
    "for()"
   ]
  },
  {
   "cell_type": "code",
   "execution_count": 8,
   "metadata": {},
   "outputs": [],
   "source": [
    "import copy\n",
    "templates = []\n",
    "for pod in pods:\n",
    "    sample_template = copy.deepcopy(template)\n",
    "    pod_methods = {}\n",
    "    for method in methods:\n",
    "        if method.ref_path.pod_name == pod.pod_name:\n",
    "            pod_methods.setdefault(method.path_name, {})\n",
    "            pod_methods[method.path_name][method.method_name] = method.full_method\n",
    "    if len(pod_methods):\n",
    "        sample_template[\"info\"][\"x-pods\"] = pod.full_pod\n",
    "        sample_template[\"paths\"] = pod_methods\n",
    "\n",
    "        templates.append(sample_template)"
   ]
  },
  {
   "cell_type": "code",
   "execution_count": 22,
   "metadata": {},
   "outputs": [],
   "source": [
    "def gen_dict_extract(key, var):\n",
    "    if hasattr(var,'items'):\n",
    "        for k, v in var.items():\n",
    "            if k == key:\n",
    "                yield v\n",
    "            if isinstance(v, dict):                \n",
    "                for result in gen_dict_extract(key, v):\n",
    "                    yield result\n",
    "            elif isinstance(v, (list)):\n",
    "                for d in v:\n",
    "                    for result in gen_dict_extract(key, d):\n",
    "                        yield result                        \n",
    "\n",
    "\n",
    "def get_schema_only(references):\n",
    "    saved_schema = 'default'\n",
    "    for reference in references:\n",
    "        schema = reference.split(\"#/components/schemas/\")        \n",
    "        try:\n",
    "            saved_schema = schema[1]\n",
    "        except IndexError:\n",
    "            pass\n",
    "    \n",
    "    return saved_schema"
   ]
  },
  {
   "cell_type": "code",
   "execution_count": 14,
   "metadata": {
    "collapsed": true
   },
   "outputs": [
    {
     "data": {
      "text/plain": [
       "{'Pet': [<__main__.Method at 0x7fbd884cc730>,\n",
       "  <__main__.Method at 0x7fbd884cc220>,\n",
       "  <__main__.Method at 0x7fbd884cc850>,\n",
       "  <__main__.Method at 0x7fbd884cc3d0>,\n",
       "  <__main__.Method at 0x7fbd884cc5e0>],\n",
       " 'default': [<__main__.Method at 0x7fbd884cc880>,\n",
       "  <__main__.Method at 0x7fbd884cc8b0>,\n",
       "  <__main__.Method at 0x7fbd884ccc70>,\n",
       "  <__main__.Method at 0x7fbd884cc5b0>,\n",
       "  <__main__.Method at 0x7fbd883ec0d0>,\n",
       "  <__main__.Method at 0x7fbd883ec190>,\n",
       "  <__main__.Method at 0x7fbd883ec3d0>],\n",
       " 'ApiResponse': [<__main__.Method at 0x7fbd884cc640>],\n",
       " 'Order': [<__main__.Method at 0x7fbd884cca00>,\n",
       "  <__main__.Method at 0x7fbd884ccdf0>],\n",
       " 'User': [<__main__.Method at 0x7fbd884ccfd0>,\n",
       "  <__main__.Method at 0x7fbd884ccaf0>,\n",
       "  <__main__.Method at 0x7fbd883ec250>,\n",
       "  <__main__.Method at 0x7fbd883ec310>]}"
      ]
     },
     "execution_count": 14,
     "metadata": {},
     "output_type": "execute_result"
    }
   ],
   "source": [
    "schema_methods = {}\n",
    "for method in methods:\n",
    "    all_references = list(set(gen_dict_extract('$ref', method.full_method)))\n",
    "    \n",
    "    schema_name = get_schema_only(all_references)    \n",
    "    \n",
    "    schema_methods.setdefault(schema_name, [])\n",
    "    schema_methods[schema_name].append(method)\n",
    "\n",
    "schema_methods\n"
   ]
  },
  {
   "cell_type": "code",
   "execution_count": 23,
   "metadata": {},
   "outputs": [
    {
     "data": {
      "text/plain": [
       "'Pet'"
      ]
     },
     "execution_count": 23,
     "metadata": {},
     "output_type": "execute_result"
    }
   ],
   "source": [
    "get_schema_only(['#/info/x-pods/pod1/containers/c1/port', '#/components/schemas/Pet'])\n"
   ]
  },
  {
   "cell_type": "code",
   "execution_count": 25,
   "metadata": {},
   "outputs": [],
   "source": [
    "# creating initial configuration start from here\n",
    "import json\n",
    "\n",
    "with open(\"01config.json\", \"r\") as initial_config:\n",
    "    initial_template = json.load(initial_config)\n",
    "    "
   ]
  },
  {
   "cell_type": "code",
   "execution_count": 43,
   "metadata": {},
   "outputs": [],
   "source": [
    "# getting all methods from a fat container\n",
    "\n",
    "methods = []\n",
    "for path_name, path in initial_template[\"paths\"].items():\n",
    "    for method_name, method in path.items():        \n",
    "        ref_path = RefPath(method[\"x-location\"][\"$ref\"]) \n",
    "        \n",
    "        all_references = list(set(gen_dict_extract('$ref', method)))        \n",
    "        schema_name = get_schema_only(all_references)            \n",
    "        \n",
    "        methods.append(Method(path_name, method_name, ref_path, schema_name, method))\n",
    "\n",
    "pods = []\n",
    "for pod_name, pod in initial_template[\"info\"][\"x-pods\"].items():\n",
    "    full_pod = dict()\n",
    "    full_pod[pod_name] = pod\n",
    "    pods.append(Pod(pod_name, full_pod))"
   ]
  },
  {
   "cell_type": "code",
   "execution_count": 50,
   "metadata": {},
   "outputs": [
    {
     "data": {
      "text/plain": [
       "{'c1': {'id': 'c1', 'metrics': {'load': ''}, 'port': 4000}}"
      ]
     },
     "execution_count": 50,
     "metadata": {},
     "output_type": "execute_result"
    }
   ],
   "source": [
    "pods[0].full_pod[pod_name][\"containers\"]"
   ]
  },
  {
   "cell_type": "code",
   "execution_count": 55,
   "metadata": {},
   "outputs": [
    {
     "name": "stdout",
     "output_type": "stream",
     "text": [
      "c1\n",
      "c1\n",
      "c1\n",
      "c1\n",
      "c1\n",
      "c1\n"
     ]
    }
   ],
   "source": [
    "schema_methods = {}\n",
    "for method in methods:  \n",
    "    schema_methods.setdefault(method.schema_name, [])\n",
    "    schema_methods[method.schema_name].append(method)    "
   ]
  },
  {
   "cell_type": "code",
   "execution_count": 70,
   "metadata": {},
   "outputs": [
    {
     "data": {
      "text/plain": [
       "{'openapi': '3.0.0',\n",
       " 'info': {'description': 'This is a sample server Petstore server.  You can find out more about     Swagger at [http://swagger.io](http://swagger.io) or on [irc.freenode.net, #swagger](http://swagger.io/irc/).      For this sample, you can use the api key `special-key` to test the authorization     filters.',\n",
       "  'version': '1.0.0',\n",
       "  'title': 'Swagger Petstore',\n",
       "  'termsOfService': 'http://swagger.io/terms/',\n",
       "  'contact': {'email': 'apiteam@swagger.io'},\n",
       "  'license': {'name': 'Apache 2.0',\n",
       "   'url': 'http://www.apache.org/licenses/LICENSE-2.0.html'},\n",
       "  'x-pods': {'pod1': {'name': 'pod1',\n",
       "    'metrics': {'CPU': '', 'RAM': ''},\n",
       "    'containers': {'c1': {'id': 'c1', 'metrics': {'load': ''}, 'port': 4000},\n",
       "     'c2': {'id': 'c2', 'metrics': {'load': ''}},\n",
       "     'c3': {'id': 'c3', 'metrics': {'load': ''}},\n",
       "     'c4': {'id': 'c4', 'metrics': {'load': ''}}}}}},\n",
       " 'servers': [{'url': 'https://petstore.swagger.io',\n",
       "   'description': 'Optional server description, e.g. Main (production) server'}],\n",
       " 'tags': [{'name': 'pet',\n",
       "   'description': 'Everything about your Pets',\n",
       "   'externalDocs': {'description': 'Find out more',\n",
       "    'url': 'http://swagger.io'}},\n",
       "  {'name': 'store', 'description': 'Access to Petstore orders'},\n",
       "  {'name': 'user',\n",
       "   'description': 'Operations about user',\n",
       "   'externalDocs': {'description': 'Find out more about our store',\n",
       "    'url': 'http://swagger.io'}}],\n",
       " 'paths': {'/Pets': {'get': {'tags': ['pet'],\n",
       "    'summary': 'Add a new pet to the store',\n",
       "    'description': '',\n",
       "    'responses': {'405': {'description': 'Invalid input'}},\n",
       "    'security': [{'petstore_auth': ['write:pets', 'read:pets']}],\n",
       "    'x-location': {'$ref': '#/info/x-pods/pod1/containers/c1/port'},\n",
       "    'x-metrics': {'load': ''}},\n",
       "   'put': {'tags': ['pet'],\n",
       "    'summary': 'Add a new pet to the store',\n",
       "    'description': '',\n",
       "    'requestBody': {'description': 'description about addition to pet',\n",
       "     'required': True,\n",
       "     'content': {'application/json': {'schema': {'$ref': '#/components/schemas/Pet'}}}},\n",
       "    'responses': {'405': {'description': 'Invalid input'}},\n",
       "    'security': [{'petstore_auth': ['write:pets', 'read:pets']}],\n",
       "    'x-location': {'$ref': '#/info/x-pods/pod1/containers/c2/port'},\n",
       "    'x-metrics': {'load': ''}}},\n",
       "  '/Users': {'get': {'tags': ['pet'],\n",
       "    'summary': 'Add a new pet to the store',\n",
       "    'description': '',\n",
       "    'responses': {'405': {'description': 'Invalid input'}},\n",
       "    'security': [{'petstore_auth': ['write:pets', 'read:pets']}],\n",
       "    'x-location': {'$ref': '#/info/x-pods/pod1/containers/c1/port'},\n",
       "    'x-metrics': {'load': ''}},\n",
       "   'patch': {'tags': ['pet'],\n",
       "    'summary': 'Add a new pet to the store',\n",
       "    'description': '',\n",
       "    'requestBody': {'description': 'description about addition to pet',\n",
       "     'required': True,\n",
       "     'content': {'application/json': {'schema': {'$ref': '#/components/schemas/User'}}}},\n",
       "    'responses': {'405': {'description': 'Invalid input'}},\n",
       "    'security': [{'petstore_auth': ['write:pets', 'read:pets']}],\n",
       "    'x-location': {'$ref': '#/info/x-pods/pod1/containers/c3/port'},\n",
       "    'x-metrics': {'load': ''}}},\n",
       "  '/Store': {'patch': {'tags': ['pet'],\n",
       "    'summary': 'Add a new pet to the store',\n",
       "    'description': '',\n",
       "    'requestBody': {'description': 'description about addition to pet',\n",
       "     'required': True,\n",
       "     'content': {'application/json': {'schema': {'$ref': '#/components/schemas/Store'}}}},\n",
       "    'responses': {'405': {'description': 'Invalid input'}},\n",
       "    'security': [{'petstore_auth': ['write:pets', 'read:pets']}],\n",
       "    'x-location': {'$ref': '#/info/x-pods/pod1/containers/c4/port'},\n",
       "    'x-metrics': {'load': ''}},\n",
       "   'get': {'tags': ['pet'],\n",
       "    'summary': 'Add a new pet to the store',\n",
       "    'description': '',\n",
       "    'responses': {'405': {'description': 'Invalid input'}},\n",
       "    'security': [{'petstore_auth': ['write:pets', 'read:pets']}],\n",
       "    'x-location': {'$ref': '#/info/x-pods/pod1/containers/c1/port'},\n",
       "    'x-metrics': {'load': ''}}}},\n",
       " 'components': {'securitySchemes': {'petstore_auth': {'type': 'oauth2',\n",
       "    'flows': {'authorizationCode': {'authorizationUrl': '/oauth/dialog',\n",
       "      'tokenUrl': '/oauth/token',\n",
       "      'scopes': {'write:pets': 'modify pets in your account',\n",
       "       'read:pets': 'read your pets'}}}},\n",
       "   'api_key': {'type': 'apiKey', 'name': 'api_key', 'in': 'header'}},\n",
       "  'schemas': {'Order': {'type': 'object',\n",
       "    'properties': {'id': {'type': 'integer', 'format': 'int64'},\n",
       "     'petId': {'type': 'integer', 'format': 'int64'},\n",
       "     'quantity': {'type': 'integer', 'format': 'int32'},\n",
       "     'shipDate': {'type': 'string', 'format': 'date-time'},\n",
       "     'status': {'type': 'string',\n",
       "      'description': 'Order Status',\n",
       "      'enum': ['placed', 'approved', 'delivered']},\n",
       "     'complete': {'type': 'boolean', 'default': False}},\n",
       "    'xml': {'name': 'Order'}},\n",
       "   'Category': {'type': 'object',\n",
       "    'properties': {'id': {'type': 'integer', 'format': 'int64'},\n",
       "     'name': {'type': 'string'}},\n",
       "    'xml': {'name': 'Category'}},\n",
       "   'User': {'type': 'object',\n",
       "    'properties': {'id': {'type': 'integer', 'format': 'int64'},\n",
       "     'username': {'type': 'string'},\n",
       "     'firstName': {'type': 'string'},\n",
       "     'lastName': {'type': 'string'},\n",
       "     'email': {'type': 'string'},\n",
       "     'password': {'type': 'string'},\n",
       "     'phone': {'type': 'string'},\n",
       "     'userStatus': {'type': 'integer',\n",
       "      'format': 'int32',\n",
       "      'description': 'User Status'}},\n",
       "    'xml': {'name': 'User'}},\n",
       "   'Tag': {'type': 'object',\n",
       "    'properties': {'id': {'type': 'integer', 'format': 'int64'},\n",
       "     'name': {'type': 'string'}},\n",
       "    'xml': {'name': 'Tag'}},\n",
       "   'Pet': {'type': 'object',\n",
       "    'required': ['name', 'photoUrls'],\n",
       "    'properties': {'id': {'type': 'integer', 'format': 'int64'},\n",
       "     'category': {'$ref': '#/components/schemas/Category'},\n",
       "     'name': {'type': 'string', 'example': 'doggie'},\n",
       "     'photoUrls': {'type': 'array',\n",
       "      'xml': {'name': 'photoUrl', 'wrapped': True},\n",
       "      'items': {'type': 'string'}},\n",
       "     'tags': {'type': 'array',\n",
       "      'xml': {'name': 'tag', 'wrapped': True},\n",
       "      'items': {'$ref': '#/components/schemas/Tag'}},\n",
       "     'status': {'type': 'string',\n",
       "      'description': 'pet status in the store',\n",
       "      'enum': ['available', 'pending', 'sold']}},\n",
       "    'xml': {'name': 'Pet'}}}},\n",
       " 'externalDocs': {'description': 'Find out more about Swagger',\n",
       "  'url': 'http://swagger.io'}}"
      ]
     },
     "execution_count": 70,
     "metadata": {},
     "output_type": "execute_result"
    }
   ],
   "source": [
    "import copy\n",
    "\n",
    "copied_template = copy.deepcopy(initial_template)\n",
    "\n",
    "index = 1\n",
    "for schema_name, methods in schema_methods.items():\n",
    "    if index == 1:\n",
    "        pass        \n",
    "    else:\n",
    "        first_method = methods[0]\n",
    "        new_container = \"c\" + str(index)\n",
    "        \n",
    "        container_template = {'id': new_container, 'metrics': {'load': ''} }\n",
    "        \n",
    "        copied_template[\"info\"][\"x-pods\"][method.ref_path.pod_name][\"containers\"][new_container] = container_template\n",
    "        \n",
    "        for method in methods:\n",
    "            method.ref_path.container_name = new_container\n",
    "            method.full_method[\"x-location\"][\"$ref\"] = method.ref_path.full_path\n",
    "            copied_template[\"paths\"][method.path_name][method.method_name] = method.full_method\n",
    "    index +=1\n",
    "    \n",
    "copied_template"
   ]
  }
 ],
 "metadata": {
  "kernelspec": {
   "display_name": "Python 3",
   "language": "python",
   "name": "python3"
  },
  "language_info": {
   "codemirror_mode": {
    "name": "ipython",
    "version": 3
   },
   "file_extension": ".py",
   "mimetype": "text/x-python",
   "name": "python",
   "nbconvert_exporter": "python",
   "pygments_lexer": "ipython3",
   "version": "3.8.3"
  }
 },
 "nbformat": 4,
 "nbformat_minor": 4
}
