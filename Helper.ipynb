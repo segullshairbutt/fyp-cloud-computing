{
 "cells": [
  {
   "cell_type": "code",
   "execution_count": 1,
   "metadata": {},
   "outputs": [],
   "source": [
    "clusters = {\n",
    "  \"cl1\": {\n",
    "    \"wn1\": {\n",
    "      \"pod1\": {\n",
    "        \"c1\": {\n",
    "          \"name\": \"01_cl1_wn1_pod1_c1\",\n",
    "          \"path\": \"/home/gull-shair-butt/Documents/Pycharm-Projects/FYP/admin/pet_store/new_configs/01_cl1_wn1_pod1_c1.json\",\n",
    "          \"tag\": \"01\",\n",
    "          \"image\": \"segullshairbutt/website:01_cl1_wn1_pod1_c1_image\"\n",
    "        },\n",
    "        \"c2\": {\n",
    "          \"name\": \"01_cl1_wn1_pod1_c2\",\n",
    "          \"path\": \"/home/gull-shair-butt/Documents/Pycharm-Projects/FYP/admin/pet_store/new_configs/01_cl1_wn1_pod1_c2.json\",\n",
    "          \"tag\": \"01\",\n",
    "          \"image\": \"segullshairbutt/website:01_cl1_wn1_pod1_c2_image\"\n",
    "        },\n",
    "        \"c3\": {\n",
    "          \"name\": \"01_cl1_wn1_pod1_c3\",\n",
    "          \"path\": \"/home/gull-shair-butt/Documents/Pycharm-Projects/FYP/admin/pet_store/new_configs/01_cl1_wn1_pod1_c3.json\",\n",
    "          \"tag\": \"01\",\n",
    "          \"image\": \"segullshairbutt/website:01_cl1_wn1_pod1_c3_image\"\n",
    "        },\n",
    "        \"c4\": {\n",
    "          \"name\": \"01_cl1_wn1_pod1_c4\",\n",
    "          \"path\": \"/home/gull-shair-butt/Documents/Pycharm-Projects/FYP/admin/pet_store/new_configs/01_cl1_wn1_pod1_c4.json\",\n",
    "          \"tag\": \"01\",\n",
    "          \"image\": \"segullshairbutt/website:01_cl1_wn1_pod1_c4_image\"\n",
    "        }\n",
    "      }\n",
    "    },\n",
    "    \"wn2\": {\n",
    "      \"pod1\": {\n",
    "        \"c1\": {\n",
    "          \"name\": \"01_cl1_wn2_pod1_c1\",\n",
    "          \"path\": \"/home/gull-shair-butt/Documents/Pycharm-Projects/FYP/admin/pet_store/new_configs/01_cl1_wn2_pod1_c1.json\",\n",
    "          \"tag\": \"01\",\n",
    "          \"image\": \"segullshairbutt/website:01_cl1_wn2_pod1_c1_image\"\n",
    "        }\n",
    "      }\n",
    "    }\n",
    "  }\n",
    "}"
   ]
  },
  {
   "cell_type": "code",
   "execution_count": 5,
   "metadata": {},
   "outputs": [
    {
     "data": {
      "text/plain": [
       "['cl1']"
      ]
     },
     "execution_count": 5,
     "metadata": {},
     "output_type": "execute_result"
    }
   ],
   "source": [
    "list(clusters.keys())"
   ]
  }
 ],
 "metadata": {
  "kernelspec": {
   "display_name": "Python 3",
   "language": "python",
   "name": "python3"
  },
  "language_info": {
   "codemirror_mode": {
    "name": "ipython",
    "version": 3
   },
   "file_extension": ".py",
   "mimetype": "text/x-python",
   "name": "python",
   "nbconvert_exporter": "python",
   "pygments_lexer": "ipython3",
   "version": "3.8.3"
  }
 },
 "nbformat": 4,
 "nbformat_minor": 4
}
