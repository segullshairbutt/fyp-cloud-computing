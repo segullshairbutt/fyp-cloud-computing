{
 "cells": [
  {
   "cell_type": "code",
   "execution_count": 5,
   "metadata": {},
   "outputs": [],
   "source": [
    "import json\n",
    "\n",
    "with open(\"sample_config.json\", \"r\") as sample_file:\n",
    "    template = json.load(sample_file)\n",
    "    \n",
    "class RefPath:\n",
    "    def __init__(self, ref_path):\n",
    "        paths = ref_path.split(\"#/info/x-pods/\")\n",
    "        parts = paths[1].split(\"/\")\n",
    "        self.pod_name = parts[0]\n",
    "        self.container_name = parts[2]\n",
    "\n",
    "    @property\n",
    "    def full_path(self):\n",
    "        return \"#/info/x-pods/\" + self.pod_name + \"/containers/\" + self.container_name + \"/port\"\n",
    "\n",
    "\n",
    "class Method:\n",
    "    def __init__(self, path_name, method_name, ref_path, full_method):\n",
    "        self.path_name = path_name\n",
    "        self.method_name = method_name\n",
    "        self.ref_path = ref_path\n",
    "        self.full_method = full_method\n",
    "\n",
    "    def __str__(self):\n",
    "        return self.path_name + \": \" + self.method_name + \" (\" + self.ref_path.full_path + \")\""
   ]
  },
  {
   "cell_type": "code",
   "execution_count": null,
   "metadata": {},
   "outputs": [],
   "source": [
    "methods = []\n",
    "for path_name, path in template[\"paths\"]:\n",
    "    for method_name, method in path.items():\n",
    "        ref_path = RefPath(method[\"x-location\"][\"$ref\"])\n",
    "        methods.append(Method(path_name, method_name, ref_path))"
   ]
  }
 ],
 "metadata": {
  "kernelspec": {
   "display_name": "Python 3",
   "language": "python",
   "name": "python3"
  },
  "language_info": {
   "codemirror_mode": {
    "name": "ipython",
    "version": 3
   },
   "file_extension": ".py",
   "mimetype": "text/x-python",
   "name": "python",
   "nbconvert_exporter": "python",
   "pygments_lexer": "ipython3",
   "version": "3.8.3"
  }
 },
 "nbformat": 4,
 "nbformat_minor": 4
}
