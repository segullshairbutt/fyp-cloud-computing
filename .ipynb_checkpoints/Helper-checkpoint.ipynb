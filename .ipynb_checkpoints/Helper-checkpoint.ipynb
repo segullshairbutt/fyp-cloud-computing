{
 "cells": [
  {
   "cell_type": "code",
   "execution_count": 1,
   "metadata": {},
   "outputs": [],
   "source": [
    "clusters = {\n",
    "  \"cl1\": {\n",
    "    \"wn1\": {\n",
    "      \"pod1\": {\n",
    "        \"c1\": {\n",
    "          \"name\": \"01_cl1_wn1_pod1_c1\",\n",
    "          \"path\": \"/home/gull-shair-butt/Documents/Pycharm-Projects/FYP/admin/pet_store/new_configs/01_cl1_wn1_pod1_c1.json\",\n",
    "          \"tag\": \"01\",\n",
    "          \"image\": \"segullshairbutt/website:01_cl1_wn1_pod1_c1_image\"\n",
    "        },\n",
    "        \"c2\": {\n",
    "          \"name\": \"01_cl1_wn1_pod1_c2\",\n",
    "          \"path\": \"/home/gull-shair-butt/Documents/Pycharm-Projects/FYP/admin/pet_store/new_configs/01_cl1_wn1_pod1_c2.json\",\n",
    "          \"tag\": \"01\",\n",
    "          \"image\": \"segullshairbutt/website:01_cl1_wn1_pod1_c2_image\"\n",
    "        },\n",
    "        \"c3\": {\n",
    "          \"name\": \"01_cl1_wn1_pod1_c3\",\n",
    "          \"path\": \"/home/gull-shair-butt/Documents/Pycharm-Projects/FYP/admin/pet_store/new_configs/01_cl1_wn1_pod1_c3.json\",\n",
    "          \"tag\": \"01\",\n",
    "          \"image\": \"segullshairbutt/website:01_cl1_wn1_pod1_c3_image\"\n",
    "        },\n",
    "        \"c4\": {\n",
    "          \"name\": \"01_cl1_wn1_pod1_c4\",\n",
    "          \"path\": \"/home/gull-shair-butt/Documents/Pycharm-Projects/FYP/admin/pet_store/new_configs/01_cl1_wn1_pod1_c4.json\",\n",
    "          \"tag\": \"01\",\n",
    "          \"image\": \"segullshairbutt/website:01_cl1_wn1_pod1_c4_image\"\n",
    "        }\n",
    "      }\n",
    "    },\n",
    "    \"wn2\": {\n",
    "      \"pod1\": {\n",
    "        \"c1\": {\n",
    "          \"name\": \"01_cl1_wn2_pod1_c1\",\n",
    "          \"path\": \"/home/gull-shair-butt/Documents/Pycharm-Projects/FYP/admin/pet_store/new_configs/01_cl1_wn2_pod1_c1.json\",\n",
    "          \"tag\": \"01\",\n",
    "          \"image\": \"segullshairbutt/website:01_cl1_wn2_pod1_c1_image\"\n",
    "        }\n",
    "      }\n",
    "    }\n",
    "  }\n",
    "}"
   ]
  },
  {
   "cell_type": "code",
   "execution_count": 39,
   "metadata": {},
   "outputs": [],
   "source": [
    "def get_template(containers_config, wn_name):\n",
    "    tag = containers_config[0]['tag']\n",
    "    \n",
    "    containers = \"\"\n",
    "    for container_config in containers_config:\n",
    "        containers += \"\\n\"\n",
    "        containers += get_containers(container_config['name'], container_config['image'])        \n",
    "    \n",
    "    return f\"\"\"apiVersion: apps/v1\n",
    "kind: Deployment\n",
    "metadata:\n",
    "  name: config-{tag}-deployment\n",
    "  labels: \n",
    "    app: config-{tag}\n",
    "spec:\n",
    "  replicas: 1\n",
    "  selector:\n",
    "    matchLabels:\n",
    "      app: config-{tag}\n",
    "  template:\n",
    "    metadata:\n",
    "      labels:\n",
    "        app: config-{tag}\n",
    "    spec:\n",
    "      containers:\n",
    "      {containers}\n",
    "      nodeSelector: \n",
    "        name: {wn_name}\n",
    "---\n",
    "apiVersion: v1\n",
    "kind: Service\n",
    "metadata:\n",
    "  name: config-{tag}-service\n",
    "spec: \n",
    "  selector:\n",
    "    app: config-{tag}\n",
    "  ports:\n",
    "    - protocol: TCP\n",
    "      port: 27017\n",
    "      targetPort: 27017\"\"\"\n",
    "\n",
    "\n",
    "def get_containers(name, image_name):\n",
    "    return f\"\"\"      - name: 01_cl1_wn1_pod1_c3\n",
    "        image: segullshairbutt/website:01_cl1_wn1_pod1_c3_image\"\"\""
   ]
  },
  {
   "cell_type": "code",
   "execution_count": 40,
   "metadata": {},
   "outputs": [],
   "source": [
    "from collections import defaultdict\n",
    "\n",
    "templates = []\n",
    "services = []\n",
    "\n",
    "deployable_config = defaultdict()\n",
    "for cl_name, cluster in clusters.items():    \n",
    "    for wn_name, pods in cluster.items():\n",
    "        for pod_name, containers in pods.items():\n",
    "            containers = list(containers.values())\n",
    "            if containers:\n",
    "                templates.append(get_template(containers, wn_name))                                \n",
    "#             for container_name, config in containers.items():\n",
    "#                 name = config['name'].replace(\"_\", \"-\")\n",
    "#                 templates.append(get_template(name, config['image'], wn_name))"
   ]
  },
  {
   "cell_type": "code",
   "execution_count": 25,
   "metadata": {},
   "outputs": [
    {
     "data": {
      "text/plain": [
       "['apiVersion: apps/v1\\nkind: Deployment\\nmetadata:\\n  name: config-01-deployment\\n  labels: \\n    app: config-01\\nspec:\\n  replicas: 1\\n  selector:\\n    matchLabels:\\n      app: config-01\\n  template:\\n    metadata:\\n      labels:\\n        app: config-01\\n    spec:\\n      containers:\\n      - name: 01_cl1_wn1_pod1_c1\\n        image: segullshairbutt/website:01_cl1_wn1_pod1_c1_image\\n- name: 01_cl1_wn1_pod1_c2\\n        image: segullshairbutt/website:01_cl1_wn1_pod1_c2_image\\n- name: 01_cl1_wn1_pod1_c3\\n        image: segullshairbutt/website:01_cl1_wn1_pod1_c3_image\\n- name: 01_cl1_wn1_pod1_c4\\n        image: segullshairbutt/website:01_cl1_wn1_pod1_c4_image\\n\\n      nodeSelector: \\n        name: wn1\\n---\\napiVersion: v1\\nkind: Service\\nmetadata:\\n  name: config-01-service\\nspec: \\n  selector:\\n    app: config-01\\n  ports:\\n    - protocol: TCP\\n      port: 27017\\n      targetPort: 27017',\n",
       " 'apiVersion: apps/v1\\nkind: Deployment\\nmetadata:\\n  name: config-01-deployment\\n  labels: \\n    app: config-01\\nspec:\\n  replicas: 1\\n  selector:\\n    matchLabels:\\n      app: config-01\\n  template:\\n    metadata:\\n      labels:\\n        app: config-01\\n    spec:\\n      containers:\\n      - name: 01_cl1_wn2_pod1_c1\\n        image: segullshairbutt/website:01_cl1_wn2_pod1_c1_image\\n\\n      nodeSelector: \\n        name: wn2\\n---\\napiVersion: v1\\nkind: Service\\nmetadata:\\n  name: config-01-service\\nspec: \\n  selector:\\n    app: config-01\\n  ports:\\n    - protocol: TCP\\n      port: 27017\\n      targetPort: 27017']"
      ]
     },
     "execution_count": 25,
     "metadata": {},
     "output_type": "execute_result"
    }
   ],
   "source": [
    "templates"
   ]
  },
  {
   "cell_type": "code",
   "execution_count": 41,
   "metadata": {},
   "outputs": [],
   "source": [
    "import yaml\n",
    "with open('output.yaml', 'w') as output_file:\n",
    "    output_file.write(templates[0])\n"
   ]
  },
  {
   "cell_type": "code",
   "execution_count": 15,
   "metadata": {},
   "outputs": [],
   "source": [
    "chart, depl = get_helm_chart(\"01\", 1, \"se\")"
   ]
  },
  {
   "cell_type": "code",
   "execution_count": 16,
   "metadata": {},
   "outputs": [
    {
     "data": {
      "text/plain": [
       "'apiVersion: v2 #mandatory\\nname: open-api-chart #mandatory\\ndescription: A Helm chart for Kubernetes\\ntype: application\\nversion: 0.1.0 #mandatory\\nappVersion: 1.01.1'"
      ]
     },
     "execution_count": 16,
     "metadata": {},
     "output_type": "execute_result"
    }
   ],
   "source": []
  },
  {
   "cell_type": "code",
   "execution_count": 14,
   "metadata": {},
   "outputs": [],
   "source": [
    "def get_helm_chart(version, count, image_name):\n",
    "    deployment_file = f\"\"\"---\n",
    "apiVersion: apps/v1\n",
    "kind: Deployment\n",
    "metadata:\n",
    "  name: open-api-app-v-{version}-{str(count)}\n",
    "spec:\n",
    "  replicas: 1\n",
    "  selector:\n",
    "    matchLabels:\n",
    "      app: open-api-app-v-{version}-{str(count)}\n",
    "  template:\n",
    "    metadata:\n",
    "      labels:\n",
    "        app: open-api-app-v-{version}-{str(count)}\n",
    "    spec:\n",
    "      containers:\n",
    "        - name: app\n",
    "          image: {image_name}\n",
    "          ports:\n",
    "            - containerPort: 8080          \n",
    "          imagePullPolicy: IfNotPresent\n",
    "---\n",
    "apiVersion: v1\n",
    "kind: Service\n",
    "metadata:\n",
    "  name: open-api-app-v-{version}-{str(count)}\n",
    "spec:\n",
    "  selector:\n",
    "    app: open-api-app-v-{version}-{str(count)}\n",
    "  ports:\n",
    "    - port: 8081\n",
    "      targetPort: 8080          \n",
    "  type: LoadBalancer\"\"\"\n",
    "\n",
    "    chart_file = f\"\"\"apiVersion: v2 #mandatory\n",
    "name: open-api-chart #mandatory\n",
    "description: A Helm chart for Kubernetes\n",
    "type: application\n",
    "version: 0.1.0 #mandatory\n",
    "appVersion: 1.{version}.{str(count)}\"\"\"\n",
    "\n",
    "    return chart_file, deployment_file"
   ]
  }
 ],
 "metadata": {
  "kernelspec": {
   "display_name": "Python 3",
   "language": "python",
   "name": "python3"
  },
  "language_info": {
   "codemirror_mode": {
    "name": "ipython",
    "version": 3
   },
   "file_extension": ".py",
   "mimetype": "text/x-python",
   "name": "python",
   "nbconvert_exporter": "python",
   "pygments_lexer": "ipython3",
   "version": "3.8.3"
  }
 },
 "nbformat": 4,
 "nbformat_minor": 4
}
