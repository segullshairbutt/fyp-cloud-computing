{
 "cells": [
  {
   "cell_type": "code",
   "execution_count": 37,
   "metadata": {},
   "outputs": [],
   "source": [
    "import json\n",
    "\n",
    "with open(\"sample_config.json\", \"r\") as sample_file:\n",
    "    template = json.load(sample_file)\n",
    "    \n",
    "class RefPath:\n",
    "    def __init__(self, ref_path):\n",
    "        paths = ref_path.split(\"#/info/x-pods/\")\n",
    "        parts = paths[1].split(\"/\")\n",
    "        self.pod_name = parts[0]\n",
    "        self.container_name = parts[2]\n",
    "\n",
    "    @property\n",
    "    def full_path(self):\n",
    "        return \"#/info/x-pods/\" + self.pod_name + \"/containers/\" + self.container_name + \"/port\"\n",
    "\n",
    "\n",
    "class Method:\n",
    "    def __init__(self, path_name, method_name, ref_path, schema_name, full_method):\n",
    "        self.path_name = path_name\n",
    "        self.method_name = method_name\n",
    "        self.ref_path = ref_path        \n",
    "        self.schema_name = schema_name\n",
    "        self.full_method = full_method        \n",
    "\n",
    "    def __str__(self):\n",
    "        return self.path_name + \": \" + self.method_name + \" (\" + self.ref_path.full_path + \")\" +\" <-> \" + self.schema_name\n",
    "    \n",
    "class Pod:\n",
    "    def __init__(self, pod_name, full_pod):\n",
    "        self.pod_name = pod_name\n",
    "        self.full_pod = full_pod"
   ]
  },
  {
   "cell_type": "code",
   "execution_count": 15,
   "metadata": {},
   "outputs": [],
   "source": [
    "methods = []\n",
    "for path_name, path in template[\"paths\"].items():\n",
    "    for method_name, method in path.items():        \n",
    "        ref_path = RefPath(method[\"x-location\"][\"$ref\"])\n",
    "        all_references = list(set(gen_dict_extract('$ref', method)))\n",
    "        schema_name = get_schema_only(all_references)    \n",
    "        \n",
    "        methods.append(Method(path_name, method_name, ref_path, schema_name, method))\n",
    "\n",
    "pods = []\n",
    "for pod_name, pod in template[\"info\"][\"x-pods\"].items():\n",
    "    full_pod = dict()\n",
    "    full_pod[pod_name] = pod\n",
    "    pods.append(Pod(pod_name, full_pod))"
   ]
  },
  {
   "cell_type": "code",
   "execution_count": null,
   "metadata": {},
   "outputs": [],
   "source": [
    "for()"
   ]
  },
  {
   "cell_type": "code",
   "execution_count": 8,
   "metadata": {},
   "outputs": [],
   "source": [
    "import copy\n",
    "templates = []\n",
    "for pod in pods:\n",
    "    sample_template = copy.deepcopy(template)\n",
    "    pod_methods = {}\n",
    "    for method in methods:\n",
    "        if method.ref_path.pod_name == pod.pod_name:\n",
    "            pod_methods.setdefault(method.path_name, {})\n",
    "            pod_methods[method.path_name][method.method_name] = method.full_method\n",
    "    if len(pod_methods):\n",
    "        sample_template[\"info\"][\"x-pods\"] = pod.full_pod\n",
    "        sample_template[\"paths\"] = pod_methods\n",
    "\n",
    "        templates.append(sample_template)"
   ]
  },
  {
   "cell_type": "code",
   "execution_count": 22,
   "metadata": {},
   "outputs": [],
   "source": [
    "def gen_dict_extract(key, var):\n",
    "    if hasattr(var,'items'):\n",
    "        for k, v in var.items():\n",
    "            if k == key:\n",
    "                yield v\n",
    "            if isinstance(v, dict):                \n",
    "                for result in gen_dict_extract(key, v):\n",
    "                    yield result\n",
    "            elif isinstance(v, (list)):\n",
    "                for d in v:\n",
    "                    for result in gen_dict_extract(key, d):\n",
    "                        yield result                        \n",
    "\n",
    "\n",
    "def get_schema_only(references):\n",
    "    saved_schema = 'default'\n",
    "    for reference in references:\n",
    "        schema = reference.split(\"#/components/schemas/\")        \n",
    "        try:\n",
    "            saved_schema = schema[1]\n",
    "        except IndexError:\n",
    "            pass\n",
    "    \n",
    "    return saved_schema"
   ]
  },
  {
   "cell_type": "code",
   "execution_count": 14,
   "metadata": {
    "collapsed": true
   },
   "outputs": [
    {
     "data": {
      "text/plain": [
       "{'Pet': [<__main__.Method at 0x7fbd884cc730>,\n",
       "  <__main__.Method at 0x7fbd884cc220>,\n",
       "  <__main__.Method at 0x7fbd884cc850>,\n",
       "  <__main__.Method at 0x7fbd884cc3d0>,\n",
       "  <__main__.Method at 0x7fbd884cc5e0>],\n",
       " 'default': [<__main__.Method at 0x7fbd884cc880>,\n",
       "  <__main__.Method at 0x7fbd884cc8b0>,\n",
       "  <__main__.Method at 0x7fbd884ccc70>,\n",
       "  <__main__.Method at 0x7fbd884cc5b0>,\n",
       "  <__main__.Method at 0x7fbd883ec0d0>,\n",
       "  <__main__.Method at 0x7fbd883ec190>,\n",
       "  <__main__.Method at 0x7fbd883ec3d0>],\n",
       " 'ApiResponse': [<__main__.Method at 0x7fbd884cc640>],\n",
       " 'Order': [<__main__.Method at 0x7fbd884cca00>,\n",
       "  <__main__.Method at 0x7fbd884ccdf0>],\n",
       " 'User': [<__main__.Method at 0x7fbd884ccfd0>,\n",
       "  <__main__.Method at 0x7fbd884ccaf0>,\n",
       "  <__main__.Method at 0x7fbd883ec250>,\n",
       "  <__main__.Method at 0x7fbd883ec310>]}"
      ]
     },
     "execution_count": 14,
     "metadata": {},
     "output_type": "execute_result"
    }
   ],
   "source": [
    "schema_methods = {}\n",
    "for method in methods:\n",
    "    all_references = list(set(gen_dict_extract('$ref', method.full_method)))\n",
    "    \n",
    "    schema_name = get_schema_only(all_references)    \n",
    "    \n",
    "    schema_methods.setdefault(schema_name, [])\n",
    "    schema_methods[schema_name].append(method)\n",
    "\n",
    "schema_methods\n"
   ]
  },
  {
   "cell_type": "code",
   "execution_count": 23,
   "metadata": {},
   "outputs": [
    {
     "data": {
      "text/plain": [
       "'Pet'"
      ]
     },
     "execution_count": 23,
     "metadata": {},
     "output_type": "execute_result"
    }
   ],
   "source": [
    "get_schema_only(['#/info/x-pods/pod1/containers/c1/port', '#/components/schemas/Pet'])\n"
   ]
  },
  {
   "cell_type": "code",
   "execution_count": 25,
   "metadata": {},
   "outputs": [],
   "source": [
    "# creating initial configuration start from here\n",
    "import json\n",
    "\n",
    "with open(\"01config.json\", \"r\") as initial_config:\n",
    "    initial_template = json.load(initial_config)\n",
    "    "
   ]
  },
  {
   "cell_type": "code",
   "execution_count": 38,
   "metadata": {},
   "outputs": [
    {
     "name": "stdout",
     "output_type": "stream",
     "text": [
      "default\n",
      "default\n",
      "Pet\n",
      "Pet\n",
      "default\n",
      "default\n",
      "User\n",
      "User\n",
      "Store\n",
      "Store\n",
      "default\n",
      "default\n"
     ]
    }
   ],
   "source": [
    "methods = []\n",
    "for path_name, path in initial_template[\"paths\"].items():\n",
    "    for method_name, method in path.items():        \n",
    "        ref_path = RefPath(method[\"x-location\"][\"$ref\"]) \n",
    "        \n",
    "        all_references = list(set(gen_dict_extract('$ref', method)))        \n",
    "        schema_name = get_schema_only(all_references)    \n",
    "        print(schema_name)\n",
    "        \n",
    "        methods.append(Method(path_name, method_name, ref_path, schema_name, method))\n",
    "\n",
    "pods = []\n",
    "for pod_name, pod in initial_template[\"info\"][\"x-pods\"].items():\n",
    "    full_pod = dict()\n",
    "    full_pod[pod_name] = pod\n",
    "    pods.append(Pod(pod_name, full_pod))"
   ]
  },
  {
   "cell_type": "code",
   "execution_count": 39,
   "metadata": {},
   "outputs": [
    {
     "name": "stdout",
     "output_type": "stream",
     "text": [
      "default\n",
      "Pet\n",
      "default\n",
      "User\n",
      "Store\n",
      "default\n"
     ]
    }
   ],
   "source": [
    "for method in methods:\n",
    "    print(method.schema_name)"
   ]
  }
 ],
 "metadata": {
  "kernelspec": {
   "display_name": "Python 3",
   "language": "python",
   "name": "python3"
  },
  "language_info": {
   "codemirror_mode": {
    "name": "ipython",
    "version": 3
   },
   "file_extension": ".py",
   "mimetype": "text/x-python",
   "name": "python",
   "nbconvert_exporter": "python",
   "pygments_lexer": "ipython3",
   "version": "3.8.3"
  }
 },
 "nbformat": 4,
 "nbformat_minor": 4
}
