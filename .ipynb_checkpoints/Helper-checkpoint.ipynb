{
 "cells": [
  {
   "cell_type": "code",
   "execution_count": 27,
   "metadata": {},
   "outputs": [],
   "source": [
    "class RefPath:\n",
    "    def __init__(self, ref_path):\n",
    "        paths = ref_path.split(\"#/info/x-clusters/\")\n",
    "        parts = paths[1].split(\"/\")        \n",
    "        self.cluster = parts[0]\n",
    "        self.worker_node = parts[2]\n",
    "        self.pod_name = parts[4]\n",
    "        self.container_name = parts[6]\n",
    "\n",
    "    @property\n",
    "    def full_path(self):\n",
    "        return f\"#/info/x-clusters/{self.cluster}/worker-nodes/{self.worker_node}/pods/{self.pod_name}/containers/{self.container_name}\"\n",
    "\n",
    "\n",
    "class Method:\n",
    "    def __init__(self, path_name, method_name, ref_path, load, schema_name, full_method):\n",
    "        self.path_name = path_name\n",
    "        self.method_name = method_name\n",
    "        self.ref_path = ref_path      \n",
    "        self.load = load\n",
    "        self.schema_name = schema_name        \n",
    "        self.full_method = full_method        \n",
    "\n",
    "    def __str__(self):\n",
    "        return self.path_name + \": \" + self.method_name + \" (\" + self.ref_path.full_path + \") \" + str(self.load) + \" <-> \" + self.schema_name\n",
    "    \n",
    "class Pod:\n",
    "    def __init__(self, pod_name, full_pod):\n",
    "        self.pod_name = pod_name\n",
    "        self.full_pod = full_pod"
   ]
  },
  {
   "cell_type": "code",
   "execution_count": 29,
   "metadata": {},
   "outputs": [
    {
     "name": "stdout",
     "output_type": "stream",
     "text": [
      "#/info/x-clusters/cl1/worker-nodes/wn1/pods/pod1/containers/c1\n"
     ]
    }
   ],
   "source": [
    "path = \"#/info/x-clusters/cl1/worker-nodes/wn1/pods/pod1/containers/c1\"\n",
    "ref_path = RefPath(path)\n",
    "ref_path.worker_node\n",
    "print(ref_path.full_path)"
   ]
  },
  {
   "cell_type": "code",
   "execution_count": 10,
   "metadata": {},
   "outputs": [],
   "source": [
    "def _gen_dict_extract(key, var):\n",
    "    if hasattr(var,'items'):\n",
    "        for k, v in var.items():\n",
    "            if k == key:\n",
    "                yield v\n",
    "            if isinstance(v, dict):                \n",
    "                for result in _gen_dict_extract(key, v):\n",
    "                    yield result\n",
    "            elif isinstance(v, (list)):\n",
    "                for d in v:\n",
    "                    for result in _gen_dict_extract(key, d):\n",
    "                        yield result                        \n",
    "\n",
    "\n",
    "def _get_schema_only(references):\n",
    "    saved_schema = 'default'\n",
    "    for reference in references:\n",
    "        schema = reference.split(\"#/components/schemas/\")        \n",
    "        try:\n",
    "            saved_schema = schema[1]\n",
    "        except IndexError:\n",
    "            pass\n",
    "    \n",
    "    return saved_schema"
   ]
  },
  {
   "cell_type": "code",
   "execution_count": 25,
   "metadata": {},
   "outputs": [],
   "source": [
    "# creating initial configuration start from here\n",
    "import json\n",
    "\n",
    "with open(\"01config.json\", \"r\") as initial_config:\n",
    "    initial_template = json.load(initial_config)\n",
    "    "
   ]
  },
  {
   "cell_type": "code",
   "execution_count": 43,
   "metadata": {},
   "outputs": [],
   "source": [
    "# getting all methods from a fat container\n",
    "\n",
    "methods = []\n",
    "for path_name, path in initial_template[\"paths\"].items():\n",
    "    for method_name, method in path.items():        \n",
    "        ref_path = RefPath(method[\"x-location\"][\"$ref\"]) \n",
    "        \n",
    "        all_references = list(set(gen_dict_extract('$ref', method)))        \n",
    "        schema_name = get_schema_only(all_references)            \n",
    "        \n",
    "        methods.append(Method(path_name, method_name, ref_path, schema_name, method))\n",
    "\n",
    "pods = []\n",
    "for pod_name, pod in initial_template[\"info\"][\"x-pods\"].items():\n",
    "    full_pod = dict()\n",
    "    full_pod[pod_name] = pod\n",
    "    pods.append(Pod(pod_name, full_pod))"
   ]
  },
  {
   "cell_type": "code",
   "execution_count": 50,
   "metadata": {},
   "outputs": [
    {
     "data": {
      "text/plain": [
       "{'c1': {'id': 'c1', 'metrics': {'load': ''}, 'port': 4000}}"
      ]
     },
     "execution_count": 50,
     "metadata": {},
     "output_type": "execute_result"
    }
   ],
   "source": [
    "pods[0].full_pod[pod_name][\"containers\"]"
   ]
  },
  {
   "cell_type": "code",
   "execution_count": 73,
   "metadata": {},
   "outputs": [],
   "source": [
    "schema_grouped_methods = {}\n",
    "for method in methods:  \n",
    "    schema_grouped_methods.setdefault(method.schema_name, [])\n",
    "    schema_grouped_methods[method.schema_name].append(method)    "
   ]
  },
  {
   "cell_type": "code",
   "execution_count": 1,
   "metadata": {
    "collapsed": true
   },
   "outputs": [
    {
     "ename": "NameError",
     "evalue": "name 'initial_template' is not defined",
     "output_type": "error",
     "traceback": [
      "\u001b[0;31m---------------------------------------------------------------------------\u001b[0m",
      "\u001b[0;31mNameError\u001b[0m                                 Traceback (most recent call last)",
      "\u001b[0;32m<ipython-input-1-7cf2dfdf37d7>\u001b[0m in \u001b[0;36m<module>\u001b[0;34m\u001b[0m\n\u001b[1;32m      1\u001b[0m \u001b[0;32mimport\u001b[0m \u001b[0mcopy\u001b[0m\u001b[0;34m\u001b[0m\u001b[0;34m\u001b[0m\u001b[0m\n\u001b[1;32m      2\u001b[0m \u001b[0;34m\u001b[0m\u001b[0m\n\u001b[0;32m----> 3\u001b[0;31m \u001b[0mcopied_template\u001b[0m \u001b[0;34m=\u001b[0m \u001b[0mcopy\u001b[0m\u001b[0;34m.\u001b[0m\u001b[0mdeepcopy\u001b[0m\u001b[0;34m(\u001b[0m\u001b[0minitial_template\u001b[0m\u001b[0;34m)\u001b[0m\u001b[0;34m\u001b[0m\u001b[0;34m\u001b[0m\u001b[0m\n\u001b[0m\u001b[1;32m      4\u001b[0m \u001b[0;34m\u001b[0m\u001b[0m\n\u001b[1;32m      5\u001b[0m \u001b[0mindex\u001b[0m \u001b[0;34m=\u001b[0m \u001b[0;36m1\u001b[0m\u001b[0;34m\u001b[0m\u001b[0;34m\u001b[0m\u001b[0m\n",
      "\u001b[0;31mNameError\u001b[0m: name 'initial_template' is not defined"
     ]
    }
   ],
   "source": [
    "import copy\n",
    "\n",
    "copied_template = copy.deepcopy(initial_template)\n",
    "\n",
    "index = 1\n",
    "for schema_name, schema_methods in schema_grouped_methods.items():\n",
    "    if index == 1:\n",
    "        pass        \n",
    "    else:\n",
    "        first_method = schema_methods[0]\n",
    "        new_container = \"c\" + str(index)\n",
    "        \n",
    "        container_template = {'id': new_container, 'metrics': {'load': ''} }\n",
    "        \n",
    "        copied_template[\"info\"][\"x-pods\"][first_method.ref_path.pod_name][\"containers\"][new_container] = container_template\n",
    "        \n",
    "        for method in schema_methods:\n",
    "            method.ref_path.container_name = new_container\n",
    "            method.full_method[\"x-location\"][\"$ref\"] = method.ref_path.full_path\n",
    "            copied_template[\"paths\"][method.path_name][method.method_name] = method.full_method\n",
    "    index +=1\n",
    "    \n"
   ]
  },
  {
   "cell_type": "code",
   "execution_count": 18,
   "metadata": {},
   "outputs": [],
   "source": [
    "# Monitor Scaling start from here\n",
    "import json\n",
    "\n",
    "with open(\"01data.json\") as datafile:\n",
    "    all_data = json.load(datafile)"
   ]
  },
  {
   "cell_type": "code",
   "execution_count": 74,
   "metadata": {},
   "outputs": [],
   "source": [
    "class SchemaGroup:\n",
    "    def __init__(self, schema_name, sum_of_loads, methods):\n",
    "        self.schema_name = schema_name\n",
    "        self.sum_of_loads = sum_of_loads\n",
    "        self.methods = methods\n",
    "        \n",
    "    def __str__(self):\n",
    "        return schema_group.schema_name + \"-\" + str(schema_group.sum_of_loads)"
   ]
  },
  {
   "cell_type": "code",
   "execution_count": 76,
   "metadata": {},
   "outputs": [
    {
     "name": "stdout",
     "output_type": "stream",
     "text": [
      "User-12\n",
      "/users: patch (#/info/x-pods/pod1/containers/c3/port) 12 <-> User\n",
      "Store-83\n",
      "/store: post (#/info/x-pods/pod1/containers/c4/port) 83 <-> Store\n",
      "Pet-118\n",
      "/pets: put (#/info/x-pods/pod1/containers/c2/port) 31 <-> Pet\n",
      "/store: patch (#/info/x-pods/pod1/containers/c2/port) 87 <-> Pet\n",
      "default-335\n",
      "/pets: post (#/info/x-pods/pod1/containers/c1/port) 74 <-> default\n",
      "/pets: get (#/info/x-pods/pod1/containers/c1/port) 82 <-> default\n",
      "/users: get (#/info/x-pods/pod1/containers/c1/port) 86 <-> default\n",
      "/store: get (#/info/x-pods/pod1/containers/c1/port) 93 <-> default\n"
     ]
    }
   ],
   "source": [
    "MAX_ENDPOINT_LOAD = 60\n",
    "MAX_CPU_USAGE = 75\n",
    "MAX_RAM_USAGE = 70\n",
    "\n",
    "MIN_ENDPOINT_LOAD = 25\n",
    "MIN_CPU_USAGE = 40\n",
    "MIN_RAM_USAGE = 40\n",
    "\n",
    "scalable_schemas = []\n",
    "methods = []\n",
    "\n",
    "for single_data_obj in all_data:\n",
    "    data_paths = single_data_obj[\"paths\"]\n",
    "    data_pods = single_data_obj[\"x-pods\"]\n",
    "\n",
    "    number_of_pods = len(data_pods)\n",
    "\n",
    "    methods = []\n",
    "    for path_name, path in data_paths.items():\n",
    "        for method_name, method in path.items():\n",
    "            ref_path = RefPath(method[\"x-location\"][\"$ref\"])\n",
    "\n",
    "            all_references = list(set(_gen_dict_extract('$ref', method)))\n",
    "            schema_name = _get_schema_only(all_references)\n",
    "\n",
    "            methods.append(Method(path_name, method_name, ref_path, method[\"x-metrics\"][\"load\"], schema_name, method))\n",
    "\n",
    "    for method in methods:\n",
    "        if MIN_ENDPOINT_LOAD < method.load <= MAX_ENDPOINT_LOAD:\n",
    "#             print(\"No Need of change {\" + method.__str__() + \"}\")\n",
    "            continue\n",
    "        else:\n",
    "#             print(\"Load is demanding to change the config {\" + method.__str__() + \"}\")\n",
    "            scalable_schemas.append(method.schema_name)\n",
    "            \n",
    "    scalable_schemas = list(set(scalable_schemas))\n",
    "    if scalable_schemas:\n",
    "        break;\n",
    "\n",
    "\n",
    "schema_groups = []\n",
    "for scalable_schema in scalable_schemas:\n",
    "    schema_group = SchemaGroup(scalable_schema, 0, list())\n",
    "    for method in methods:\n",
    "        if method.schema_name == scalable_schema:            \n",
    "            schema_group.sum_of_loads += method.load\n",
    "            schema_group.methods.append(method)\n",
    "    \n",
    "    schema_groups.append(schema_group)\n",
    "\n",
    "            \n",
    "\n",
    "import operator\n",
    "\n",
    "schema_groups = sorted(schema_groups, key=operator.attrgetter(\"sum_of_loads\"))\n",
    "\n",
    "for schema_group in schema_groups:\n",
    "    schema_group.methods = sorted(schema_group.methods, key=operator.attrgetter(\"load\"))\n",
    "\n",
    "    \n",
    "for schema_group in schema_groups:\n",
    "    print(schema_group)\n",
    "    for method in schema_group.methods:\n",
    "        print(method)"
   ]
  },
  {
   "cell_type": "code",
   "execution_count": 67,
   "metadata": {},
   "outputs": [],
   "source": [
    "import copy\n",
    "import random\n",
    "import os\n",
    "import json\n",
    "\n",
    "\n",
    "def get_random_load(min_range, max_range):\n",
    "    return random.randrange(min_range, max_range)\n",
    "\n",
    "\n",
    "\n",
    "# min and max load range for pod metrics\n",
    "cl_min_range = 1\n",
    "cl_max_range = 90\n",
    "\n",
    "wn_min_range = 1\n",
    "wn_max_range = 90   \n",
    "\n",
    "pod_min_range = 1\n",
    "pod_max_range = 95\n",
    "\n",
    "container_min_range = 1\n",
    "container_max_range = 95\n",
    "\n",
    "# min and max range for container's services\n",
    "method_max_range = 95\n",
    "method_min_range = 10    \n",
    "\n",
    "# getting the path of the latest config file\n",
    "path_config = os.path.join(dir_path, config_file)\n",
    "\n",
    "# reading the latest config file\n",
    "with open(\"01config.json\", 'r', encoding='utf-8') as f:\n",
    "    data = f.read()\n",
    "    template_config = json.loads(data)\n",
    "new_data = []\n",
    "\n",
    "# set the default load value that can use only for first object in any dataset\n",
    "\n",
    "# iterate loop 10 times to generate 10 objects of dataset\n",
    "for load in range(3):\n",
    "    config = copy.deepcopy(dataset)\n",
    "\n",
    "    pods = template_config[\"info\"][\"x-pods\"]\n",
    "    clusters = template_config[\"info\"][\"x-clusters\"]\n",
    "    \n",
    "    for cluster in clusters.values():        \n",
    "        cluster[\"metrics\"][\"load\"] = get_random_load(cl_min_range, cl_max_range)        \n",
    "    \n",
    "        for wn in cluster[\"worker-nodes\"].values():\n",
    "            wn[\"metrics\"][\"load\"] = get_random_load(wn_min_range, wn_max_range)            \n",
    "                \n",
    "                for pod in wn[\"pods\"].values():                                                            \n",
    "                    pod['metrics']['load'] = get_random_load(pod_min_range, pod_max_rangea)                    \n",
    "\n",
    "                    for container in pod['containers'].values():                        \n",
    "                        container['metrics']['load'] = get_random_load(container_min_range, container_max_range)\n",
    "\n",
    "    paths = config[\"paths\"]\n",
    "    for path in paths.values():\n",
    "        for method in path.values():\n",
    "            endpoint_load = get_random_load(method_min_range, method_max_range)\n",
    "            method[\"x-metrics\"][\"load\"] = endpoint_load\n",
    "    new_object = {\n",
    "        \"x-pods\": pods,\n",
    "        \"paths\": paths\n",
    "    }\n",
    "    new_data.append(new_object)\n",
    "\n",
    "    # confusing here need to understand it what's going on here.\n",
    "    # updating the min and max range of pod(cpu and ram) for next iteration\n",
    "    if 90 > pod_cpu_load > 10:\n",
    "        pod_min_cpu = pod_cpu_load - 10\n",
    "        pod_max_cpu = pod_cpu_load + 10\n",
    "    if 90 > pod_ram_load > 10:\n",
    "        pod_min_ram = pod_ram_load - 10\n",
    "        pod_max_ram = pod_ram_load + 10\n",
    "    # ************************************************\n",
    "    # update the container load (min and max range)\n",
    "    if 85 > container_load > 10:\n",
    "        container_min_range = container_load - 10\n",
    "        container_max_range = container_load + 10\n",
    "\n",
    "    if 10 < endpoint_load < 85:\n",
    "        method_min_range = endpoint_load - 10\n",
    "        method_max_range = endpoint_load + 10\n",
    "\n",
    "path_data = os.path.join(dir_path, data_file)\n",
    "with open(path_data, 'w', encoding='utf-8') as f:\n",
    "    json.dump(new_data, f, ensure_ascii=False, indent=2)\n"
   ]
  }
 ],
 "metadata": {
  "kernelspec": {
   "display_name": "Python 3",
   "language": "python",
   "name": "python3"
  },
  "language_info": {
   "codemirror_mode": {
    "name": "ipython",
    "version": 3
   },
   "file_extension": ".py",
   "mimetype": "text/x-python",
   "name": "python",
   "nbconvert_exporter": "python",
   "pygments_lexer": "ipython3",
   "version": "3.8.3"
  }
 },
 "nbformat": 4,
 "nbformat_minor": 4
}
